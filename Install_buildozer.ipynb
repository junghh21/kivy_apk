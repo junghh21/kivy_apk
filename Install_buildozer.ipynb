{
  "nbformat": 4,
  "nbformat_minor": 0,
  "metadata": {
    "colab": {
      "provenance": [],
      "mount_file_id": "https://github.com/junghh21/kivy_apk/blob/main/Install_buildozer.ipynb",
      "authorship_tag": "ABX9TyNPXac9N5ZVZ2GajwchYnRN",
      "include_colab_link": true
    },
    "kernelspec": {
      "name": "python3",
      "display_name": "Python 3"
    },
    "language_info": {
      "name": "python"
    }
  },
  "cells": [
    {
      "cell_type": "markdown",
      "metadata": {
        "id": "view-in-github",
        "colab_type": "text"
      },
      "source": [
        "<a href=\"https://colab.research.google.com/github/junghh21/kivy_apk/blob/main/Install_buildozer.ipynb\" target=\"_parent\"><img src=\"https://colab.research.google.com/assets/colab-badge.svg\" alt=\"Open In Colab\"/></a>"
      ]
    },
    {
      "cell_type": "markdown",
      "source": [
        "First, install the buildozer project with:\n",
        "`pip3 install --user --upgrade buildozer`"
      ],
      "metadata": {
        "id": "QCsnTjXFix47"
      }
    },
    {
      "cell_type": "code",
      "source": [
        "!pip3 install --user --upgrade buildozer"
      ],
      "metadata": {
        "colab": {
          "base_uri": "https://localhost:8080/"
        },
        "id": "n48Qe2BofSDU",
        "outputId": "7e630a73-4133-48ec-b525-e445079a3942"
      },
      "execution_count": 5,
      "outputs": [
        {
          "output_type": "stream",
          "name": "stdout",
          "text": [
            "Requirement already satisfied: buildozer in /root/.local/lib/python3.10/site-packages (1.5.0)\n",
            "Requirement already satisfied: pexpect in /usr/local/lib/python3.10/dist-packages (from buildozer) (4.8.0)\n",
            "Requirement already satisfied: virtualenv in /root/.local/lib/python3.10/site-packages (from buildozer) (20.24.7)\n",
            "Requirement already satisfied: sh in /root/.local/lib/python3.10/site-packages (from buildozer) (2.0.6)\n",
            "Requirement already satisfied: ptyprocess>=0.5 in /usr/local/lib/python3.10/dist-packages (from pexpect->buildozer) (0.7.0)\n",
            "Requirement already satisfied: distlib<1,>=0.3.7 in /root/.local/lib/python3.10/site-packages (from virtualenv->buildozer) (0.3.7)\n",
            "Requirement already satisfied: filelock<4,>=3.12.2 in /usr/local/lib/python3.10/dist-packages (from virtualenv->buildozer) (3.13.1)\n",
            "Requirement already satisfied: platformdirs<5,>=3.9.1 in /usr/local/lib/python3.10/dist-packages (from virtualenv->buildozer) (4.0.0)\n"
          ]
        }
      ]
    },
    {
      "cell_type": "markdown",
      "source": [
        "**Android on Ubuntu 20.04 and 22.04 (64bit)**\n",
        "\n",
        "\n",
        "```\n",
        "sudo apt update\n",
        "sudo apt install -y git zip unzip openjdk-17-jdk python3-pip autoconf libtool pkg-config zlib1g-dev libncurses5-dev libncursesw5-dev libtinfo5 cmake libffi-dev libssl-dev\n",
        "pip3 install --user --upgrade Cython==0.29.33 virtualenv  # the --user should be removed if you do this in a venv\n",
        "```\n",
        "\n"
      ],
      "metadata": {
        "id": "TovdW1Tri9Po"
      }
    },
    {
      "cell_type": "code",
      "source": [
        "!sudo apt install -y git zip unzip openjdk-17-jdk python3-pip autoconf libtool pkg-config zlib1g-dev libncurses5-dev libncursesw5-dev libtinfo5 cmake libffi-dev libssl-dev\n",
        "!pip3 install --user --upgrade Cython==0.29.33 virtualenv  # the --user should be removed if you do this in a venv"
      ],
      "metadata": {
        "colab": {
          "base_uri": "https://localhost:8080/"
        },
        "id": "E_Cw5MKyfW_o",
        "outputId": "b4153884-1868-4d3e-f5fa-ed7c3990964a"
      },
      "execution_count": 12,
      "outputs": [
        {
          "output_type": "stream",
          "name": "stdout",
          "text": [
            "Reading package lists... Done\n",
            "Building dependency tree... Done\n",
            "Reading state information... Done\n",
            "autoconf is already the newest version (2.71-2).\n",
            "libffi-dev is already the newest version (3.4.2-4).\n",
            "libtool is already the newest version (2.4.6-15build2).\n",
            "pkg-config is already the newest version (0.29.2-1ubuntu3).\n",
            "zip is already the newest version (3.0-12build2).\n",
            "cmake is already the newest version (3.22.1-1ubuntu1.22.04.1).\n",
            "git is already the newest version (1:2.34.1-1ubuntu1.10).\n",
            "libncurses5-dev is already the newest version (6.3-2ubuntu0.1).\n",
            "libncursesw5-dev is already the newest version (6.3-2ubuntu0.1).\n",
            "libssl-dev is already the newest version (3.0.2-0ubuntu1.12).\n",
            "unzip is already the newest version (6.0-26ubuntu3.1).\n",
            "zlib1g-dev is already the newest version (1:1.2.11.dfsg-2ubuntu9.2).\n",
            "libtinfo5 is already the newest version (6.3-2ubuntu0.1).\n",
            "openjdk-17-jdk is already the newest version (17.0.8.1+1~us1-0ubuntu1~22.04).\n",
            "python3-pip is already the newest version (22.0.2+dfsg-1ubuntu0.4).\n",
            "0 upgraded, 0 newly installed, 0 to remove and 11 not upgraded.\n",
            "Requirement already satisfied: Cython==0.29.33 in /root/.local/lib/python3.10/site-packages (0.29.33)\n",
            "Requirement already satisfied: virtualenv in /root/.local/lib/python3.10/site-packages (20.24.7)\n",
            "Requirement already satisfied: distlib<1,>=0.3.7 in /root/.local/lib/python3.10/site-packages (from virtualenv) (0.3.7)\n",
            "Requirement already satisfied: filelock<4,>=3.12.2 in /usr/local/lib/python3.10/dist-packages (from virtualenv) (3.13.1)\n",
            "Requirement already satisfied: platformdirs<5,>=3.9.1 in /usr/local/lib/python3.10/dist-packages (from virtualenv) (4.0.0)\n"
          ]
        }
      ]
    },
    {
      "cell_type": "markdown",
      "source": [
        "# add the following line at the end of your ~/.bashrc file\n",
        "`export PATH=$PATH:~/.local/bin/`"
      ],
      "metadata": {
        "id": "FuaS45MejMrs"
      }
    },
    {
      "cell_type": "code",
      "source": [
        "import os\n",
        "os.environ['PATH'] = os.environ['PATH']+\":~/.local/bin/\"\n",
        "os.environ['PATH']"
      ],
      "metadata": {
        "colab": {
          "base_uri": "https://localhost:8080/",
          "height": 57
        },
        "id": "sVhTjEsvfjdp",
        "outputId": "fc99d8cd-86b2-45b1-94e0-3a2060c421e6"
      },
      "execution_count": 18,
      "outputs": [
        {
          "output_type": "execute_result",
          "data": {
            "text/plain": [
              "'/opt/bin:/usr/local/nvidia/bin:/usr/local/cuda/bin:/usr/local/sbin:/usr/local/bin:/usr/sbin:/usr/bin:/sbin:/bin:/tools/node/bin:/tools/google-cloud-sdk/bin:~/.local/bin/:~/.local/bin/'"
            ],
            "application/vnd.google.colaboratory.intrinsic+json": {
              "type": "string"
            }
          },
          "metadata": {},
          "execution_count": 18
        }
      ]
    },
    {
      "cell_type": "markdown",
      "source": [
        "**Init and build for Android**\n",
        "\n",
        "Buildozer will try to guess the version of your application, by searching a line like __version__ = “1.0.3” in your main.py. Ensure you have one at the start of your application. It is not mandatory but heavily advised.\n",
        "\n",
        "Create a buildozer.spec file, with:\n",
        "`buildozer init`\n",
        "\n",
        "Edit the buildozer.spec according to the Specifications. You should at least change the title, package.name and package.domain in the [app] section.\n",
        "\n",
        "Start a Android/debug build with:\n",
        "`buildozer -v android debug`\n",
        "\n",
        "Now it’s time for a coffee / tea, or a dinner if you have a slow computer. The first build will be slow, as it will download the Android SDK, NDK, and others tools needed for the compilation. Don’t worry, thoses files will be saved in a global directory and will be shared across the different project you’ll manage with Buildozer.\n",
        "\n",
        "At the end, you should have an APK or AAB file in the bin/ directory."
      ],
      "metadata": {
        "id": "Xv8NU7Zfjyaz"
      }
    },
    {
      "cell_type": "code",
      "source": [
        "!yes | buildozer init"
      ],
      "metadata": {
        "colab": {
          "base_uri": "https://localhost:8080/"
        },
        "id": "itKU2Nsuhf2P",
        "outputId": "aebf7d20-8cd6-4e96-e709-0178d9726713"
      },
      "execution_count": 21,
      "outputs": [
        {
          "output_type": "stream",
          "name": "stdout",
          "text": [
            "\u001b[91m\u001b[1mBuildozer is running as root!\u001b[0m\n",
            "\u001b[91mThis is \u001b[1mnot\u001b[0m \u001b[91mrecommended, and may lead to problems later.\u001b[0m\n",
            "Are you sure you want to continue [y/n]? File buildozer.spec created, ready to customize!\n"
          ]
        }
      ]
    },
    {
      "cell_type": "code",
      "source": [
        "!yes | buildozer -v android debug"
      ],
      "metadata": {
        "colab": {
          "base_uri": "https://localhost:8080/"
        },
        "id": "OyZrdJ2khyyd",
        "outputId": "c3890c5d-73c8-4caa-e736-627d86bd70fa"
      },
      "execution_count": 23,
      "outputs": [
        {
          "output_type": "stream",
          "name": "stdout",
          "text": [
            "\u001b[39m\u001b[0m\u001b[36m# Check configuration tokens\u001b[39m\u001b[0m\n",
            "\u001b[91m\u001b[1mBuildozer is running as root!\u001b[0m\n",
            "\u001b[91mThis is \u001b[1mnot\u001b[0m \u001b[91mrecommended, and may lead to problems later.\u001b[0m\n",
            "Are you sure you want to continue [y/n]? \u001b[39m\u001b[0m\u001b[36m# Ensure build layout\u001b[39m\u001b[0m\n",
            "\u001b[39m\u001b[0m\u001b[36m# Check configuration tokens\u001b[39m\u001b[0m\n",
            "\u001b[39m\u001b[0m\u001b[36m# Preparing build\u001b[39m\u001b[0m\n",
            "\u001b[39m\u001b[0m\u001b[36m# Check requirements for android\u001b[39m\u001b[0m\n",
            "\u001b[39m\u001b[0m\u001b[30m\u001b[1m# Search for Git (git)\u001b[39m\u001b[0m\n",
            "\u001b[39m\u001b[0m\u001b[30m\u001b[1m#  -> found at /usr/bin/git\u001b[39m\u001b[0m\n",
            "\u001b[39m\u001b[0m\u001b[30m\u001b[1m# Search for Cython (cython)\u001b[39m\u001b[0m\n",
            "\u001b[39m\u001b[0m\u001b[30m\u001b[1m#  -> found at /usr/local/bin/cython\u001b[39m\u001b[0m\n",
            "\u001b[39m\u001b[0m\u001b[30m\u001b[1m# Search for Java compiler (javac)\u001b[39m\u001b[0m\n",
            "\u001b[39m\u001b[0m\u001b[30m\u001b[1m#  -> found at /usr/lib/jvm/java-17-openjdk-amd64/bin/javac\u001b[39m\u001b[0m\n",
            "\u001b[39m\u001b[0m\u001b[30m\u001b[1m# Search for Java keytool (keytool)\u001b[39m\u001b[0m\n",
            "\u001b[39m\u001b[0m\u001b[30m\u001b[1m#  -> found at /usr/lib/jvm/java-17-openjdk-amd64/bin/keytool\u001b[39m\u001b[0m\n",
            "\u001b[39m\u001b[0m\u001b[36m# Install platform\u001b[39m\u001b[0m\n",
            "\u001b[39m\u001b[0m\u001b[30m\u001b[1m# Run ['git', 'config', '--get', 'remote.origin.url']\u001b[39m\u001b[0m\n",
            "\u001b[39m\u001b[0m\u001b[30m\u001b[1m# Cwd /content/.buildozer/android/platform/python-for-android\u001b[39m\u001b[0m\n",
            "https://github.com/kivy/python-for-android.git\n",
            "\u001b[39m\u001b[0m\u001b[30m\u001b[1m# Run ['git', 'branch', '-vv']\u001b[39m\u001b[0m\n",
            "\u001b[39m\u001b[0m\u001b[30m\u001b[1m# Cwd /content/.buildozer/android/platform/python-for-android\u001b[39m\u001b[0m\n",
            "* master e155baf9 [origin/master] Merge pull request #2891 from misl6/release-2023.09.16\n",
            "\u001b[39m\u001b[0m\u001b[30m\u001b[1m# Run ['/usr/bin/python3', '-m', 'pip', 'install', '-q', '--user', 'appdirs', 'colorama>=0.3.3', 'jinja2', 'sh>=1.10, <2.0; sys_platform!=\"win32\"', 'build', 'toml', 'packaging']\u001b[39m\u001b[0m\n",
            "\u001b[39m\u001b[0m\u001b[30m\u001b[1m# Cwd None\u001b[39m\u001b[0m\n",
            "\u001b[39m\u001b[0m\u001b[36m# Apache ANT found at /root/.buildozer/android/platform/apache-ant-1.9.4\u001b[39m\u001b[0m\n",
            "\u001b[39m\u001b[0m\u001b[36m# Android SDK found at /root/.buildozer/android/platform/android-sdk\u001b[39m\u001b[0m\n",
            "\u001b[39m\u001b[0m\u001b[36m# Recommended android's NDK version by p4a is: 25b\u001b[39m\u001b[0m\n",
            "\u001b[39m\u001b[0m\u001b[36m# Android NDK found at /root/.buildozer/android/platform/android-ndk-r25b\u001b[39m\u001b[0m\n",
            "\u001b[39m\u001b[0m\u001b[30m\u001b[1m# Run ['/usr/bin/python3', '-m', 'pythonforandroid.toolchain', 'aab', '-h', '--color=always', '--storage-dir=/content/.buildozer/android/platform/build-arm64-v8a_armeabi-v7a', '--ndk-api=21', '--ignore-setup-py', '--debug']\u001b[39m\u001b[0m\n",
            "\u001b[39m\u001b[0m\u001b[30m\u001b[1m# Cwd /content/.buildozer/android/platform/python-for-android\u001b[39m\u001b[0m\n",
            "[WARNING]: prerequisites.py is experimental and does not support all prerequisites yet.\n",
            "[WARNING]: Please report any issues to the python-for-android issue tracker.\n",
            "[WARNING]: prerequisites.py is experimental and does not support all prerequisites yet.\n",
            "[WARNING]: Please report any issues to the python-for-android issue tracker.\n",
            "usage: toolchain.py aab [-h] [--debug] [--color {always,never,auto}] [--sdk-dir SDK_DIR]\n",
            "                        [--ndk-dir NDK_DIR] [--android-api ANDROID_API]\n",
            "                        [--ndk-version NDK_VERSION] [--ndk-api NDK_API]\n",
            "                        [--symlink-bootstrap-files] [--storage-dir STORAGE_DIR] [--arch ARCH]\n",
            "                        [--dist-name DIST_NAME] [--requirements REQUIREMENTS]\n",
            "                        [--recipe-blacklist RECIPE_BLACKLIST]\n",
            "                        [--blacklist-requirements BLACKLIST_REQUIREMENTS] [--bootstrap BOOTSTRAP]\n",
            "                        [--hook HOOK] [--force-build] [--no-force-build] [--require-perfect-match]\n",
            "                        [--no-require-perfect-match] [--allow-replace-dist]\n",
            "                        [--no-allow-replace-dist] [--local-recipes LOCAL_RECIPES]\n",
            "                        [--activity-class-name ACTIVITY_CLASS_NAME]\n",
            "                        [--service-class-name SERVICE_CLASS_NAME]\n",
            "                        [--java-build-tool {auto,ant,gradle}] [--copy-libs] [--no-copy-libs]\n",
            "                        [--add-asset ASSETS] [--add-resource RESOURCES] [--private PRIVATE]\n",
            "                        [--use-setup-py] [--ignore-setup-py] [--release] [--with-debug-symbols]\n",
            "                        [--keystore KEYSTORE] [--signkey SIGNKEY] [--keystorepw KEYSTOREPW]\n",
            "                        [--signkeypw SIGNKEYPW]\n",
            "\n",
            "options:\n",
            "  -h, --help            show this help message and exit\n",
            "  --debug               Display debug output and all build info\n",
            "  --color {always,never,auto}\n",
            "                        Enable or disable color output (default enabled on tty)\n",
            "  --sdk-dir SDK_DIR, --sdk_dir SDK_DIR\n",
            "                        The filepath where the Android SDK is installed\n",
            "  --ndk-dir NDK_DIR, --ndk_dir NDK_DIR\n",
            "                        The filepath where the Android NDK is installed\n",
            "  --android-api ANDROID_API, --android_api ANDROID_API\n",
            "                        The Android API level to build against defaults to 33 if not specified.\n",
            "  --ndk-version NDK_VERSION, --ndk_version NDK_VERSION\n",
            "                        DEPRECATED: the NDK version is now found automatically or not at all.\n",
            "  --ndk-api NDK_API     The Android API level to compile against. This should be your *minimal\n",
            "                        supported* API, not normally the same as your --android-api. Defaults to\n",
            "                        min(ANDROID_API, 21) if not specified.\n",
            "  --symlink-bootstrap-files, --ssymlink_bootstrap_files\n",
            "                        If True, symlinks the bootstrap files creation. This is useful for\n",
            "                        development only, it could also cause weird problems.\n",
            "  --storage-dir STORAGE_DIR\n",
            "                        Primary storage directory for downloads and builds (default:\n",
            "                        /root/.local/share/python-for-android)\n",
            "  --arch ARCH           The archs to build for.\n",
            "  --dist-name DIST_NAME, --dist_name DIST_NAME\n",
            "                        The name of the distribution to use or create\n",
            "  --requirements REQUIREMENTS\n",
            "                        Dependencies of your app, should be recipe names or Python modules. NOT\n",
            "                        NECESSARY if you are using Python 3 with --use-setup-py\n",
            "  --recipe-blacklist RECIPE_BLACKLIST\n",
            "                        Blacklist an internal recipe from use. Allows disabling Python 3 core\n",
            "                        modules to save size\n",
            "  --blacklist-requirements BLACKLIST_REQUIREMENTS\n",
            "                        Blacklist an internal recipe from use. Allows disabling Python 3 core\n",
            "                        modules to save size\n",
            "  --bootstrap BOOTSTRAP\n",
            "                        The bootstrap to build with. Leave unset to choose automatically.\n",
            "  --hook HOOK           Filename to a module that contains python-for-android hooks\n",
            "  --local-recipes LOCAL_RECIPES, --local_recipes LOCAL_RECIPES\n",
            "                        Directory to look for local recipes\n",
            "  --activity-class-name ACTIVITY_CLASS_NAME\n",
            "                        The full java class name of the main activity\n",
            "  --service-class-name SERVICE_CLASS_NAME\n",
            "                        Full java package name of the PythonService class\n",
            "  --java-build-tool {auto,ant,gradle}\n",
            "                        The java build tool to use when packaging the APK, defaults to\n",
            "                        automatically selecting an appropriate tool.\n",
            "  --add-asset ASSETS    Put this in the assets folder in the apk.\n",
            "  --add-resource RESOURCES\n",
            "                        Put this in the res folder in the apk.\n",
            "  --private PRIVATE     the directory with the app source code files (containing your main.py\n",
            "                        entrypoint)\n",
            "  --use-setup-py        Process the setup.py of a project if present. (Experimental!\n",
            "  --ignore-setup-py     Don't run the setup.py of a project if present. This may be required if\n",
            "                        the setup.py is not designed to work inside p4a (e.g. by installing\n",
            "                        dependencies that won't work or aren't desired on Android\n",
            "  --release             Build your app as a non-debug release build. (Disables gdb debugging among\n",
            "                        other things)\n",
            "  --with-debug-symbols  Will keep debug symbols from `.so` files.\n",
            "  --keystore KEYSTORE   Keystore for JAR signing key, will use jarsigner default if not specified\n",
            "                        (release build only)\n",
            "  --signkey SIGNKEY     Key alias to sign PARSER_APK. with (release build only)\n",
            "  --keystorepw KEYSTOREPW\n",
            "                        Password for keystore\n",
            "  --signkeypw SIGNKEYPW\n",
            "                        Password for key alias\n",
            "\n",
            "  Whether to force compilation of a new distribution\n",
            "\n",
            "  --force-build\n",
            "  --no-force-build      (this is the default)\n",
            "  --require-perfect-match\n",
            "  --no-require-perfect-match\n",
            "                        (this is the default)\n",
            "  --allow-replace-dist  (this is the default)\n",
            "  --no-allow-replace-dist\n",
            "  --copy-libs\n",
            "  --no-copy-libs        (this is the default)\n",
            "\u001b[39m\u001b[0m\u001b[36m# Check application requirements\u001b[39m\u001b[0m\n",
            "\u001b[39m\u001b[0m\u001b[36m# Compile platform\u001b[39m\u001b[0m\n",
            "\u001b[39m\u001b[0m\u001b[30m\u001b[1m# Run ['/usr/bin/python3', '-m', 'pythonforandroid.toolchain', 'create', '--dist_name=myapp', '--bootstrap=sdl2', '--requirements=python3,kivy', '--arch=arm64-v8a', '--arch=armeabi-v7a', '--copy-libs', '--color=always', '--storage-dir=/content/.buildozer/android/platform/build-arm64-v8a_armeabi-v7a', '--ndk-api=21', '--ignore-setup-py', '--debug']\u001b[39m\u001b[0m\n",
            "\u001b[39m\u001b[0m\u001b[30m\u001b[1m# Cwd /content/.buildozer/android/platform/python-for-android\u001b[39m\u001b[0m\n",
            "[WARNING]: prerequisites.py is experimental and does not support all prerequisites yet.\n",
            "[WARNING]: Please report any issues to the python-for-android issue tracker.\n",
            "[WARNING]: prerequisites.py is experimental and does not support all prerequisites yet.\n",
            "[WARNING]: Please report any issues to the python-for-android issue tracker.\n",
            "\u001b[1m[INFO]\u001b[0m:    Will compile for the following archs: arm64-v8a, armeabi-v7a\n",
            "\u001b[1m[INFO]\u001b[0m:    Found Android API target in $ANDROIDAPI: 31\n",
            "\u001b[1m[INFO]\u001b[0m:    Available Android APIs are (31)\n",
            "\u001b[1m[INFO]\u001b[0m:    Requested API target 31 is available, continuing.\n",
            "\u001b[1m[INFO]\u001b[0m:    Found NDK dir in $ANDROIDNDK: /root/.buildozer/android/platform/android-ndk-r25b\n",
            "\u001b[1m[INFO]\u001b[0m:    Found NDK version 25b\n",
            "\u001b[1m[INFO]\u001b[0m:    Getting NDK API version (i.e. minimum supported API) from user argument\n",
            "\u001b[1m[INFO]\u001b[0m:    ccache is missing, the build will not be optimized in the future.\n",
            "\u001b[1m\u001b[90m[DEBUG]\u001b[39m\u001b[0m:   All possible dists: [<Distribution: name myapp with recipes (hostpython3, libffi, openssl, sdl2_image, sdl2_mixer, sdl2_ttf, sqlite3, python3, sdl2, setuptools, six, pyjnius, android, kivy, urllib3, requests, chardet, certifi, idna)>]\n",
            "\u001b[1m\u001b[90m[DEBUG]\u001b[39m\u001b[0m:   Dist matching name and arch: [<Distribution: name myapp with recipes (hostpython3, libffi, openssl, sdl2_image, sdl2_mixer, sdl2_ttf, sqlite3, python3, sdl2, setuptools, six, pyjnius, android, kivy, urllib3, requests, chardet, certifi, idna)>]\n",
            "\u001b[1m\u001b[90m[DEBUG]\u001b[39m\u001b[0m:   Dist matching ndk_api and recipe: [<Distribution: name myapp with recipes (hostpython3, libffi, openssl, sdl2_image, sdl2_mixer, sdl2_ttf, sqlite3, python3, sdl2, setuptools, six, pyjnius, android, kivy, urllib3, requests, chardet, certifi, idna)>]\n",
            "\u001b[1m[INFO]\u001b[0m:    Of the existing distributions, the following meet the given requirements:\n",
            "\u001b[1m[INFO]\u001b[0m:    \t\u001b[32m\u001b[1mmyapp\u001b[0m: min API 21, includes recipes (\u001b[32mhostpython3, libffi, openssl, sdl2_image, sdl2_mixer, sdl2_ttf, sqlite3, python3, sdl2, setuptools, six, pyjnius, android, kivy, urllib3, requests, chardet, certifi, idna\u001b[0m), built for archs (\u001b[34marm64-v8a, armeabi-v7a\u001b[0m)\n",
            "\u001b[1m[INFO]\u001b[0m:    \u001b[1m\u001b[94mmyapp has compatible recipes, using this one\u001b[0m\n",
            "\u001b[39m\u001b[0m\u001b[36m# Build the application #2\u001b[39m\u001b[0m\n",
            "\u001b[39m\u001b[0m\u001b[30m\u001b[1m# Copy application source from /content\u001b[39m\u001b[0m\n",
            "\u001b[39m\u001b[0m\u001b[30m\u001b[1m# Create directory /content/.buildozer/android/app\u001b[39m\u001b[0m\n",
            "\u001b[39m\u001b[0m\u001b[30m\u001b[1m# Copy /content/main.py\u001b[39m\u001b[0m\n",
            "\u001b[39m\u001b[0m\u001b[30m\u001b[1m# Copy /content/pong.kv\u001b[39m\u001b[0m\n",
            "\u001b[39m\u001b[0m\u001b[30m\u001b[1m# Copy /content/pongpong.py\u001b[39m\u001b[0m\n",
            "\u001b[39m\u001b[0m\u001b[36m# Package the application\u001b[39m\u001b[0m\n",
            "\u001b[39m\u001b[0m\u001b[30m\u001b[1m# project.properties updated\u001b[39m\u001b[0m\n",
            "\u001b[39m\u001b[0m\u001b[30m\u001b[1m# Run ['/usr/bin/python3', '-m', 'pythonforandroid.toolchain', 'apk', '--bootstrap', 'sdl2', '--dist_name', 'myapp', '--name', 'My Application', '--version', '0.1', '--package', 'org.test.myapp', '--minsdk', '21', '--ndk-api', '21', '--private', '/content/.buildozer/android/app', '--android-entrypoint', 'org.kivy.android.PythonActivity', '--android-apptheme', '@android:style/Theme.NoTitleBar', '--orientation', 'portrait', '--window', '--enable-androidx', '--copy-libs', '--arch', 'arm64-v8a', '--arch', 'armeabi-v7a', '--color=always', '--storage-dir=/content/.buildozer/android/platform/build-arm64-v8a_armeabi-v7a', '--ndk-api=21', '--ignore-setup-py', '--debug']\u001b[39m\u001b[0m\n",
            "\u001b[39m\u001b[0m\u001b[30m\u001b[1m# Cwd /content/.buildozer/android/platform/python-for-android\u001b[39m\u001b[0m\n",
            "[WARNING]: prerequisites.py is experimental and does not support all prerequisites yet.\n",
            "[WARNING]: Please report any issues to the python-for-android issue tracker.\n",
            "[WARNING]: prerequisites.py is experimental and does not support all prerequisites yet.\n",
            "[WARNING]: Please report any issues to the python-for-android issue tracker.\n",
            "\u001b[1m[INFO]\u001b[0m:    Will compile for the following archs: arm64-v8a, armeabi-v7a\n",
            "\u001b[1m[INFO]\u001b[0m:    Found Android API target in $ANDROIDAPI: 31\n",
            "\u001b[1m[INFO]\u001b[0m:    Available Android APIs are (31)\n",
            "\u001b[1m[INFO]\u001b[0m:    Requested API target 31 is available, continuing.\n",
            "\u001b[1m[INFO]\u001b[0m:    Found NDK dir in $ANDROIDNDK: /root/.buildozer/android/platform/android-ndk-r25b\n",
            "\u001b[1m[INFO]\u001b[0m:    Found NDK version 25b\n",
            "\u001b[1m[INFO]\u001b[0m:    Getting NDK API version (i.e. minimum supported API) from user argument\n",
            "\u001b[1m[INFO]\u001b[0m:    ccache is missing, the build will not be optimized in the future.\n",
            "\u001b[1m\u001b[90m[DEBUG]\u001b[39m\u001b[0m:   All possible dists: [<Distribution: name myapp with recipes (hostpython3, libffi, openssl, sdl2_image, sdl2_mixer, sdl2_ttf, sqlite3, python3, sdl2, setuptools, six, pyjnius, android, kivy, urllib3, requests, chardet, certifi, idna)>]\n",
            "\u001b[1m\u001b[90m[DEBUG]\u001b[39m\u001b[0m:   Dist matching name and arch: [<Distribution: name myapp with recipes (hostpython3, libffi, openssl, sdl2_image, sdl2_mixer, sdl2_ttf, sqlite3, python3, sdl2, setuptools, six, pyjnius, android, kivy, urllib3, requests, chardet, certifi, idna)>]\n",
            "\u001b[1m\u001b[90m[DEBUG]\u001b[39m\u001b[0m:   Dist matching ndk_api and recipe: [<Distribution: name myapp with recipes (hostpython3, libffi, openssl, sdl2_image, sdl2_mixer, sdl2_ttf, sqlite3, python3, sdl2, setuptools, six, pyjnius, android, kivy, urllib3, requests, chardet, certifi, idna)>]\n",
            "\u001b[1m[INFO]\u001b[0m:    Of the existing distributions, the following meet the given requirements:\n",
            "\u001b[1m[INFO]\u001b[0m:    \t\u001b[32m\u001b[1mmyapp\u001b[0m: min API 21, includes recipes (\u001b[32mhostpython3, libffi, openssl, sdl2_image, sdl2_mixer, sdl2_ttf, sqlite3, python3, sdl2, setuptools, six, pyjnius, android, kivy, urllib3, requests, chardet, certifi, idna\u001b[0m), built for archs (\u001b[34marm64-v8a, armeabi-v7a\u001b[0m)\n",
            "\u001b[1m[INFO]\u001b[0m:    \u001b[1m\u001b[94mmyapp has compatible recipes, using this one\u001b[0m\n",
            "\u001b[1m\u001b[90m[DEBUG]\u001b[39m\u001b[0m:   All possible dists: [<Distribution: name myapp with recipes (hostpython3, libffi, openssl, sdl2_image, sdl2_mixer, sdl2_ttf, sqlite3, python3, sdl2, setuptools, six, pyjnius, android, kivy, urllib3, requests, chardet, certifi, idna)>]\n",
            "\u001b[1m\u001b[90m[DEBUG]\u001b[39m\u001b[0m:   Dist matching name and arch: [<Distribution: name myapp with recipes (hostpython3, libffi, openssl, sdl2_image, sdl2_mixer, sdl2_ttf, sqlite3, python3, sdl2, setuptools, six, pyjnius, android, kivy, urllib3, requests, chardet, certifi, idna)>]\n",
            "\u001b[1m\u001b[90m[DEBUG]\u001b[39m\u001b[0m:   Dist matching ndk_api and recipe: [<Distribution: name myapp with recipes (hostpython3, libffi, openssl, sdl2_image, sdl2_mixer, sdl2_ttf, sqlite3, python3, sdl2, setuptools, six, pyjnius, android, kivy, urllib3, requests, chardet, certifi, idna)>]\n",
            "\u001b[1m[INFO]\u001b[0m:    Of the existing distributions, the following meet the given requirements:\n",
            "\u001b[1m[INFO]\u001b[0m:    \t\u001b[32m\u001b[1mmyapp\u001b[0m: min API 21, includes recipes (\u001b[32mhostpython3, libffi, openssl, sdl2_image, sdl2_mixer, sdl2_ttf, sqlite3, python3, sdl2, setuptools, six, pyjnius, android, kivy, urllib3, requests, chardet, certifi, idna\u001b[0m), built for archs (\u001b[34marm64-v8a, armeabi-v7a\u001b[0m)\n",
            "\u001b[1m[INFO]\u001b[0m:    \u001b[1m\u001b[94mmyapp has compatible recipes, using this one\u001b[0m\n",
            "\u001b[1m[INFO]\u001b[0m:    \u001b[36m-> directory context /content/.buildozer/android/platform/build-arm64-v8a_armeabi-v7a/build/bootstrap_builds/sdl2\u001b[39m\n",
            "\u001b[1m[INFO]\u001b[0m:    \u001b[36m<- directory context /content/.buildozer/android/platform/python-for-android\u001b[39m\n",
            "\u001b[1m[INFO]\u001b[0m:    \u001b[36m-> directory context /content/.buildozer/android/platform/build-arm64-v8a_armeabi-v7a/dists/myapp\u001b[39m\n",
            "\u001b[1m\u001b[90m[DEBUG]\u001b[39m\u001b[0m:   Remove directory and subdirectory src/main/assets\n",
            "\u001b[1m\u001b[90m[DEBUG]\u001b[39m\u001b[0m:   Create directory src/main/assets\n",
            "Compiling '/content/.buildozer/android/app/main.py'...\n",
            "Compiling '/content/.buildozer/android/app/pongpong.py'...\n",
            "Compiling '/content/.buildozer/android/app/sitecustomize.py'...\n",
            "\u001b[1m\u001b[90m[DEBUG]\u001b[39m\u001b[0m:   Remove directory and subdirectory /tmp/p4a-extra-env-7g8k0ts8\n",
            "\u001b[1m[INFO]\u001b[0m:    Detected highest available build tools version to be 34.0.0\n",
            "\u001b[1m\u001b[90m[DEBUG]\u001b[39m\u001b[0m:   \u001b[90m->\u001b[0m running gradlew clean assembleDebug\u001b[0m\n",
            "\u001b[1m\u001b[90m[DEBUG]\u001b[39m\u001b[0m:   \tDownloading https://services.gradle.org/distributions/gradle-7.4.1-all.zip\n",
            "\u001b[1m\u001b[90m[DEBUG]\u001b[39m\u001b[0m:   \t.............................................................................................................................................................................................................................................................................................................................................................................................................................................................................................................................................................................................................................................................................................................................................................................................................................................................................................................................................................................................................................................................................................................................................................................................................................................................................................................................................................................................................................................................................................................................................................................................................................................................................................................................................................................................................................................................................................................................................................................................................................................................................................................................................................................................................................................................................................................................................................................................................................................................................................................................................................................................................................................................................................................................................................................................................................................................................................................................................................................................................................................................................................................................................................................................................................................................................................................................................................................................................................................................................................................................................................................................................................................................................................................................................................................................................................................................................................................................................................................................................................................................................................................................................................................................................................................................................................................................................................................................................................................................................................................................................................................................................................................................................................................................................................................................................................................................................................................................................................................................................................................................................................................................................................................................................................................................................................................................................................................................................................................................................................................................................................................................................................................................................................................................................................................................................................................................................................................................................................................................................................................................................................................................................................................................................................................................................................................................................................................................................................................................................................................................................................................................................................................................................................................................................................................................................................................................................................................................................................................................................................................................................................................................................................................................................................................................................................................................................................................................................................................................................................................................................................................................................................................................................................................................................................................................................................................................................................................................................................................................................................................................................................................................................................................................................................................................................................\n",
            "\u001b[1m\u001b[90m[DEBUG]\u001b[39m\u001b[0m:   \tUnzipping /root/.gradle/wrapper/dists/gradle-7.4.1-all/8bevta3mh7872g50ecurigeld/gradle-7.4.1-all.zip to /root/.gradle/wrapper/dists/gradle-7.4.1-all/8bevta3mh7872g50ecurigeld\n",
            "\u001b[1m\u001b[90m[DEBUG]\u001b[39m\u001b[0m:   \tSet executable permissions for: /root/.gradle/wrapper/dists/gradle-7.4.1-all/8bevta3mh7872g50ecurigeld/gradle-7.4.1/bin/gradle\n",
            "\u001b[1m\u001b[90m[DEBUG]\u001b[39m\u001b[0m:   \t\n",
            "\u001b[1m\u001b[90m[DEBUG]\u001b[39m\u001b[0m:   \tWelcome to Gradle 7.4.1!\n",
            "\u001b[1m\u001b[90m[DEBUG]\u001b[39m\u001b[0m:   \t\n",
            "\u001b[1m\u001b[90m[DEBUG]\u001b[39m\u001b[0m:   \tHere are the highlights of this release:\n",
            "\u001b[1m\u001b[90m[DEBUG]\u001b[39m\u001b[0m:   \t - Aggregated test and JaCoCo reports\n",
            "\u001b[1m\u001b[90m[DEBUG]\u001b[39m\u001b[0m:   \t - Marking additional test source directories as tests in IntelliJ\n",
            "\u001b[1m\u001b[90m[DEBUG]\u001b[39m\u001b[0m:   \t - Support for Adoptium JDKs in Java toolchains\n",
            "\u001b[1m\u001b[90m[DEBUG]\u001b[39m\u001b[0m:   \t\n",
            "\u001b[1m\u001b[90m[DEBUG]\u001b[39m\u001b[0m:   \tFor more details see https://docs.gradle.org/7.4.1/release-notes.html\n",
            "\u001b[1m\u001b[90m[DEBUG]\u001b[39m\u001b[0m:   \t\n",
            "\u001b[1m\u001b[90m[DEBUG]\u001b[39m\u001b[0m:   \tStarting a Gradle Daemon (subsequent builds will be faster)\n",
            "\u001b[1m\u001b[90m[DEBUG]\u001b[39m\u001b[0m:   \t\n",
            "\u001b[1m\u001b[90m[DEBUG]\u001b[39m\u001b[0m:   \t\n",
            "\u001b[1m\u001b[90m[DEBUG]\u001b[39m\u001b[0m:   \t\u001b[2A\u001b[1B\u001b[1m> Starting Daemon\u001b[m\u001b[17D\u001b[1B\u001b[1A> IDLE\u001b[0K\u001b[6D\u001b[1B\u001b[2A\u001b[1m<\u001b[0;1m-------------> 0% INITIALIZING [9ms]\u001b[m\u001b[37D\u001b[2B\u001b[2A\u001b[1m<\u001b[0;1m-------------> 0% INITIALIZING [109ms]\u001b[m\u001b[39D\u001b[2B\u001b[2A\u001b[1m<\u001b[0;1m-------------> 0% INITIALIZING [210ms]\u001b[m\u001b[39D\u001b[2B\u001b[2A\u001b[1m<\u001b[0;1m-------------> 0% INITIALIZING [309ms]\u001b[m\u001b[39D\u001b[2B\u001b[2A\u001b[1m<\u001b[0;1m-------------> 0% INITIALIZING [410ms]\u001b[m\u001b[39D\u001b[2B\u001b[2A\u001b[1m<\u001b[0;1m-------------> 0% INITIALIZING [510ms]\u001b[m\u001b[39D\u001b[2B\u001b[2A\u001b[1m<\u001b[0;1m-------------> 0% INITIALIZING [610ms]\u001b[m\u001b[39D\u001b[2B\u001b[2A\u001b[1m<\u001b[0;1m-------------> 0% INITIALIZING [709ms]\u001b[m\u001b[39D\u001b[2B\u001b[2A\u001b[1m<\u001b[0;1m-------------> 0% INITIALIZING [809ms]\u001b[m\u001b[39D\u001b[2B\u001b[2A\u001b[1m<\u001b[0;1m-------------> 0% INITIALIZING [909ms]\u001b[m\u001b[39D\u001b[2B\u001b[2A\u001b[1m<\u001b[0;1m-------------> 0% INITIALIZING [1s]\u001b[m\u001b[0K\u001b[36D\u001b[2B\u001b[1A\u001b[1m> Evaluating settings\u001b[m\u001b[21D\u001b[1B\u001b[2A\u001b[1m<\u001b[0;1m-------------> 0% INITIALIZING [2s]\u001b[m\u001b[36D\u001b[2B\u001b[2A\u001b[1m<\u001b[0;1m-------------> 0% CONFIGURING [2s]\u001b[m\u001b[0K\u001b[35D\u001b[1B\u001b[1m> Loading projects\u001b[m\u001b[0K\u001b[18D\u001b[1B\u001b[1A\u001b[1m> root project\u001b[m\u001b[0K\u001b[14D\u001b[1B\u001b[2A\u001b[1m<\u001b[0;1m-------------> 0% CONFIGURING [3s]\u001b[m\u001b[35D\u001b[2B\u001b[1A\u001b[1m> root project > Compiling build file 'build.gradle'\u001b[m\u001b[52D\u001b[1B\u001b[2A\u001b[1m<\u001b[0;1m-------------> 0% CONFIGURING [4s]\u001b[m\u001b[35D\u001b[2B\u001b[2A\u001b[1m<\u001b[0;1m-------------> 0% CONFIGURING [5s]\u001b[m\u001b[35D\u001b[2B\u001b[1A\u001b[1m> root project\u001b[m\u001b[0K\u001b[14D\u001b[1B\u001b[2A\u001b[1m<\u001b[0;1m-------------> 0% CONFIGURING [6s]\u001b[m\u001b[35D\u001b[1B\u001b[1m> root project > Resolve dependencies of :classpath\u001b[m\u001b[51D\u001b[1B\u001b[1A\u001b[1m> root project > Resolve dependencies of :classpath > gradle-7.1.2.pom\u001b[m\u001b[70D\u001b[1B\u001b[2A\u001b[1m<\u001b[0;1m-------------> 0% CONFIGURING [7s]\u001b[m\u001b[35D\u001b[2B\u001b[1A\u001b[1m> root project > Resolve dependencies of :classpath\u001b[m\u001b[0K\u001b[51D\u001b[1B\u001b[2A\u001b[1m<\u001b[0;1m-------------> 0% CONFIGURING [8s]\u001b[m\u001b[35D\u001b[2B\n",
            "\u001b[1m\u001b[90m[DEBUG]\u001b[39m\u001b[0m:   \t\u001b[3A\u001b[35C\u001b[0K\u001b[35D\u001b[1B\u001b[1m> root project > Resolve dependencies of :classpath > kotlin-stdlib-jdk8-1.4.32\u001b[m\u001b[79D\u001b[1B\u001b[1m> root project > Resolve dependencies of :classpath > transform-api-2.0.0-depre\u001b[m\u001b[79D\u001b[1B\u001b[1A\u001b[1m> root project > Resolve dependencies of :classpath > httpmime-4.5.6.pom\u001b[m\u001b[0K\u001b[72D\u001b[1B\u001b[2A\u001b[1m> root project > Resolve dependencies of :classpath\u001b[m\u001b[0K\u001b[51D\u001b[1B> IDLE\u001b[0K\u001b[6D\u001b[1B\u001b[2A\u001b[1m> root project > Resolve dependencies of :classpath > httpcomponents-parent-10.\u001b[m\u001b[79D\u001b[2B\u001b[2A\u001b[1m> root project > Resolve dependencies of :classpath > commons-parent-25.pom > 2\u001b[m\u001b[79D\u001b[1B\u001b[1m> root project > Resolve dependencies of :classpath > apache-18.pom > 15.2 KiB/\u001b[m\u001b[79D\u001b[1B\u001b[2A\u001b[1m> root project > Resolve dependencies of :classpath\u001b[m\u001b[0K\u001b[51D\u001b[1B> IDLE\u001b[0K\u001b[6D\u001b[1B\u001b[2A\u001b[1m> root project > Resolve dependencies of :classpath > apache-9.pom\u001b[m\u001b[66D\u001b[2B\u001b[3A\u001b[1m<\u001b[0;1m-------------> 0% CONFIGURING [9s]\u001b[m\u001b[35D\u001b[1B\u001b[1m> root project > Resolve dependencies of :classpath\u001b[m\u001b[0K\u001b[51D\u001b[2B\u001b[2A\u001b[1m> root project > Resolve dependencies of :classpath > asm-9.1.pom > 2 KiB/2.3 K\u001b[m\u001b[79D\u001b[2B\u001b[2A\u001b[1m> root project > Resolve dependencies of :classpath\u001b[m\u001b[0K\u001b[51D\u001b[2B\u001b[2A\u001b[1m> root project > Resolve dependencies of :classpath > asm-util-9.1.pom > 2 KiB/\u001b[m\u001b[79D\u001b[2B\u001b[2A\u001b[1m> root project > Resolve dependencies of :classpath\u001b[m\u001b[0K\u001b[51D\u001b[2B\u001b[2A\u001b[1m> root project > Resolve dependencies of :classpath > jaxb-parent-2.3.2.pom > 1\u001b[m\u001b[79D\u001b[1B\u001b[1m> root project > Resolve dependencies of :classpath > oss-parent-7.pom\u001b[m\u001b[70D\u001b[1B\u001b[2A\u001b[1m> root project > Resolve dependencies of :classpath > jaxb-bom-ext-2.3.2.pom > \u001b[m\u001b[79D\u001b[1B> IDLE\u001b[0K\u001b[6D\u001b[1B\u001b[2A\u001b[1m> root project > Resolve dependencies of :classpath\u001b[m\u001b[0K\u001b[51D\u001b[2B\u001b[3A\u001b[1m<\u001b[0;1m-------------> 0% CONFIGURING [10s]\u001b[m\u001b[36D\u001b[3B\u001b[2A\u001b[1m> root project > Resolve dependencies of :classpath > protobuf-bom-3.10.0.pom\u001b[m\u001b[77D\u001b[2B\u001b[2A\u001b[1m> root project > Resolve dependencies of :classpath\u001b[m\u001b[0K\u001b[51D\u001b[2B\u001b[2A\u001b[1m> root project > Resolve dependencies of :classpath > gson-parent-2.8.6.pom\u001b[m\u001b[75D\u001b[2B\u001b[2A\u001b[1m> root project > Resolve dependencies of :classpath\u001b[m\u001b[0K\u001b[51D\u001b[2B\u001b[2A\u001b[1m> root project > Resolve dependencies of :classpath > tink-1.3.0-rc2.pom\u001b[m\u001b[72D\u001b[2B\u001b[2A\u001b[1m> root project > Resolve dependencies of :classpath > tensorflow-lite-metadata-\u001b[m\u001b[79D\u001b[2B\u001b[2A\u001b[1m> root project > Resolve dependencies of :classpath > builder-7.1.2.module > 8 \u001b[m\u001b[79D\u001b[1B\u001b[1m> root project > Resolve dependencies of :classpath > builder-model-7.1.2.modul\u001b[m\u001b[79D\u001b[1B\u001b[2A\u001b[1m> root project > Resolve dependencies of :classpath > android-test-plugin-host-\u001b[m\u001b[79D\u001b[1B\u001b[1m> root project > Resolve dependencies of :classpath > sdklib-30.1.2.pom\u001b[m\u001b[0K\u001b[71D\u001b[1B\u001b[3A\u001b[1m<\u001b[0;1m-------------> 0% CONFIGURING [11s]\u001b[m\u001b[36D\u001b[1B\u001b[1m> root project > Resolve dependencies of :classpath > sdklib-30.1.2.module\u001b[m\u001b[0K\u001b[74D\u001b[1B> IDLE\u001b[0K\u001b[6D\u001b[1B\u001b[2A\u001b[1m> root project > Resolve dependencies of :classpath\u001b[m\u001b[0K\u001b[51D\u001b[2B\u001b[2A\u001b[1m> root project > Resolve dependencies of :classpath > android-device-provider-d\u001b[m\u001b[79D\u001b[2B\u001b[2A\u001b[1m> root project > Resolve dependencies of :classpath\u001b[m\u001b[0K\u001b[51D\u001b[2B\u001b[2A\u001b[1m> root project > Resolve dependencies of :classpath > databinding-compiler-comm\u001b[m\u001b[79D\u001b[1B\u001b[1m> root project > Resolve dependencies of :classpath > crash-30.1.2.module\u001b[m\u001b[73D\u001b[1B\u001b[2A> IDLE\u001b[0K\u001b[6D\u001b[1B\u001b[1m> root project > Resolve dependencies of :classpath > lint-model-30.1.2.module \u001b[m\u001b[79D\u001b[1B\u001b[1A\u001b[1m> root project > Resolve dependencies of :classpath > kotlin-reflect-1.4.32.pom\u001b[m\u001b[79D\u001b[1B\u001b[1A\u001b[1m> root project > Resolve dependencies of :classpath > commons-parent-48.pom > 3\u001b[m\u001b[79D\u001b[1B\u001b[3A\u001b[1m<\u001b[0;1m-------------> 0% CONFIGURING [12s]\u001b[m\u001b[36D\u001b[2B\u001b[1m> root project > Resolve dependencies of :classpath\u001b[m\u001b[0K\u001b[51D\u001b[1B\u001b[1A\u001b[1m> root project > Resolve dependencies of :classpath > annotations-30.1.2.pom\u001b[m\u001b[76D\u001b[1B\u001b[1A\u001b[1m> root project > Resolve dependencies of :classpath > antlr4-4.5.3.pom\u001b[m\u001b[0K\u001b[70D\u001b[1B\u001b[1A\u001b[1m> root project > Resolve dependencies of :classpath\u001b[m\u001b[0K\u001b[51D\u001b[1B\u001b[1A\u001b[1m> root project > Resolve dependencies of :classpath > asm-tree-9.1.pom\u001b[m\u001b[70D\u001b[1B\u001b[1A\u001b[1m> root project > Resolve dependencies of :classpath > jaxb-txw-parent-2.3.2.pom\u001b[m\u001b[79D\u001b[1B\u001b[2A\u001b[1m> root project > Resolve dependencies of :classpath > all-1.2.1.pom > 2 KiB/17.\u001b[m\u001b[79D\u001b[1B\u001b[1m> root project > Resolve dependencies of :classpath > istack-commons-3.0.8.pom\u001b[m\u001b[0K\u001b[78D\u001b[1B\u001b[3A\u001b[1m<\u001b[0;1m-------------> 0% CONFIGURING [13s]\u001b[m\u001b[36D\u001b[1B\u001b[1m> root project > Resolve dependencies of :classpath > FastInfoset-1.2.16.pom\u001b[m\u001b[0K\u001b[76D\u001b[2B\u001b[2A> IDLE\u001b[0K\u001b[6D\u001b[1B\u001b[1m> root project > Resolve dependencies of :classpath > slf4j-parent-1.7.30.pom\u001b[m\u001b[0K\u001b[77D\u001b[1B\u001b[1A\u001b[1m> root project > Resolve dependencies of :classpath > jdom2-2.0.6.pom\u001b[m\u001b[0K\u001b[69D\u001b[1B\u001b[1A\u001b[1m> root project > Resolve dependencies of :classpath\u001b[m\u001b[0K\u001b[51D\u001b[1B\u001b[2A\u001b[1m> root project > Resolve dependencies of :classpath > grpc-protobuf-lite-1.21.1\u001b[m\u001b[79D\u001b[1B\u001b[1m> root project > Resolve dependencies of :classpath > proto-google-common-proto\u001b[m\u001b[79D\u001b[1B\u001b[2A\u001b[1m> root project > Resolve dependencies of :classpath > jackson-base-2.11.1.pom\u001b[m\u001b[0K\u001b[77D\u001b[1B> IDLE\u001b[0K\u001b[6D\u001b[1B\u001b[2A\u001b[1m> root project > Resolve dependencies of :classpath\u001b[m\u001b[0K\u001b[51D\u001b[2B\u001b[2A\u001b[1m> root project > Resolve dependencies of :classpath > markdown-0.2.1.pom\u001b[m\u001b[72D\u001b[1B\u001b[1m> root project > Resolve dependencies of :classpath > kotlinx-coroutines-core-1\u001b[m\u001b[79D\u001b[1B\u001b[2A\u001b[1m> root project > Resolve dependencies of :classpath > signflinger-7.1.2.module\u001b[m\u001b[78D\u001b[1B\u001b[1m> root project > Resolve dependencies of :classpath > tracker-30.1.2.module\u001b[m\u001b[0K\u001b[75D\u001b[1B\u001b[2A\u001b[1m> root project > Resolve dependencies of :classpath > apache-15.pom\u001b[m\u001b[0K\u001b[67D\u001b[1B\u001b[1m> root project > Resolve dependencies of :classpath > apkzlib-7.1.2.module > 4.\u001b[m\u001b[79D\u001b[1B\u001b[3A\u001b[1m<\u001b[0;1m-------------> 0% CONFIGURING [14s]\u001b[m\u001b[36D\u001b[1B\u001b[1m> root project > Resolve dependencies of :classpath > manifest-merger-30.1.2.po\u001b[m\u001b[79D\u001b[1B> IDLE\u001b[0K\u001b[6D\u001b[1B\u001b[2A\u001b[1m> root project > Resolve dependencies of :classpath\u001b[m\u001b[0K\u001b[51D\u001b[2B\u001b[2A\u001b[1m> root project > Resolve dependencies of :classpath > xml-apis-1.4.01.pom\u001b[m\u001b[73D\u001b[2B\u001b[2A\u001b[1m> root project > Resolve dependencies of :classpath\u001b[m\u001b[0K\u001b[51D\u001b[2B\u001b[2A\u001b[1m> root project > Resolve dependencies of :classpath > animal-sniffer-parent-1.1\u001b[m\u001b[79D\u001b[2B\u001b[2A\u001b[1m> root project > Resolve dependencies of :classpath\u001b[m\u001b[0K\u001b[51D\u001b[2B\u001b[2A\u001b[1m> root project > Resolve dependencies of :classpath > jackson-module-jaxb-annot\u001b[m\u001b[79D\u001b[2B\u001b[2A\u001b[1m> root project > Resolve dependencies of :classpath > jackson-modules-base-2.11\u001b[m\u001b[79D\u001b[2B\u001b[3A\u001b[1m<\u001b[0;1m-------------> 0% CONFIGURING [15s]\u001b[m\u001b[36D\u001b[3B\u001b[2A\u001b[1m> root project > Resolve dependencies of :classpath\u001b[m\u001b[0K\u001b[51D\u001b[2B\u001b[2A\u001b[1m> root project > Resolve files of :classpath > gradle-7.1.2.jar\u001b[m\u001b[63D\u001b[1B\u001b[1m> root project > Resolve files of :classpath > android-device-provider-ddmlib-p\u001b[m\u001b[79D\u001b[1B\u001b[2A\u001b[1m> root project > Resolve files of :classpath > gradle-7.1.2.jar > 465.7 KiB/8.2\u001b[m\u001b[79D\u001b[1B\u001b[1m> root project > Resolve files of :classpath > android-test-plugin-host-coverag\u001b[m\u001b[79D\u001b[1B\u001b[2A\u001b[1m> root project > Resolve files of :classpath > gradle-7.1.2.jar > 743.4 KiB/8.2\u001b[m\u001b[79D\u001b[1B\u001b[1m> root project > Resolve files of :classpath > dokka-core-1.4.32.jar > 37.3 KiB\u001b[m\u001b[79D\u001b[1B\u001b[3A\u001b[1m<\u001b[0;1m-------------> 0% CONFIGURING [16s]\u001b[m\u001b[36D\u001b[1B\u001b[1m> root project > Resolve files of :classpath > gradle-7.1.2.jar > 1.4 MiB/8.2 M\u001b[m\u001b[79D\u001b[1B\u001b[1m> root project > Resolve files of :classpath > dokka-core-1.4.32.jar > 444.2 Ki\u001b[m\u001b[79D\u001b[1B\u001b[2A\u001b[1m> root project > Resolve files of :classpath > gradle-7.1.2.jar > 2.6 MiB/8.2 M\u001b[m\u001b[79D\u001b[1B\u001b[1m> root project > Resolve files of :classpath > builder-model-7.1.2.jar > 46.7 K\u001b[m\u001b[79D\u001b[1B\u001b[2A\u001b[1m> root project > Resolve files of :classpath > gradle-7.1.2.jar > 6.2 MiB/8.2 M\u001b[m\u001b[79D\u001b[1B> IDLE\u001b[0K\u001b[6D\u001b[1B\u001b[2A\u001b[1m> root project > Resolve files of :classpath\u001b[m\u001b[0K\u001b[44D\u001b[2B\u001b[2A\u001b[1m> root project > Resolve files of :classpath > jopt-simple-4.9.jar\u001b[m\u001b[66D\u001b[1B\u001b[1m> root project > Resolve files of :classpath > jetifier-core-1.0.0-beta09.jar\u001b[m\u001b[77D\u001b[1B\u001b[2A\u001b[1m> root project > Resolve files of :classpath > protobuf-java-3.10.0.jar > 199.3\u001b[m\u001b[79D\u001b[1B\u001b[1m> root project > Resolve files of :classpath > protos-30.1.2.jar > 1.5 MiB/4.9 \u001b[m\u001b[79D\u001b[1B\u001b[2A> IDLE\u001b[0K\u001b[6D\u001b[1B\u001b[1m> root project > Resolve files of :classpath\u001b[m\u001b[0K\u001b[44D\u001b[1B\u001b[2A\u001b[1m> root project > Resolve files of :classpath > jimfs-1.1.jar > 7.3 KiB/201.8 Ki\u001b[m\u001b[79D\u001b[1B\u001b[1m> root project > Resolve files of :classpath > bcprov-jdk15on-1.56.jar > 872 Ki\u001b[m\u001b[79D\u001b[1B\u001b[2A\u001b[1m> root project > Resolve files of :classpath > guava-30.1-jre.jar\u001b[m\u001b[0K\u001b[65D\u001b[1B> IDLE\u001b[0K\u001b[6D\u001b[1B\u001b[3A\u001b[1m<\u001b[0;1m-------------> 0% CONFIGURING [17s]\u001b[m\u001b[36D\u001b[2B\u001b[1m> root project > Resolve files of :classpath > signflinger-7.1.2.jar\u001b[m\u001b[68D\u001b[1B\u001b[1A\u001b[1m> root project > Resolve files of :classpath > jna-platform-5.6.0.jar > 1.9 MiB\u001b[m\u001b[79D\u001b[1B\u001b[1A\u001b[1m> root project > Resolve files of :classpath > kotlinx-coroutines-core-jvm-1.4.\u001b[m\u001b[79D\u001b[1B\u001b[2A\u001b[1m> root project > Resolve files of :classpath > guava-30.1-jre.jar > 8 KiB/2.7 M\u001b[m\u001b[79D\u001b[1B> IDLE\u001b[0K\u001b[6D\u001b[1B\u001b[2A\u001b[1m> root project > Resolve files of :classpath > guava-30.1-jre.jar > 27.5 KiB/2.\u001b[m\u001b[79D\u001b[1B\u001b[1m> root project > Resolve files of :classpath > error_prone_annotations-2.3.4.ja\u001b[m\u001b[79D\u001b[1B\u001b[2A\u001b[1m> root project > Resolve files of :classpath > guava-30.1-jre.jar > 60.8 KiB/2.\u001b[m\u001b[79D\u001b[1B\u001b[1m> root project > Resolve files of :classpath > opencensus-api-0.21.0.jar\u001b[m\u001b[0K\u001b[72D\u001b[1B\u001b[2A\u001b[1m> root project > Resolve files of :classpath > guava-30.1-jre.jar > 113.1 KiB/2\u001b[m\u001b[79D\u001b[2B\u001b[2A\u001b[1m> root project > Resolve files of :classpath > guava-30.1-jre.jar > 189.1 KiB/2\u001b[m\u001b[79D\u001b[1B\u001b[1m> root project > Resolve files of :classpath > opencensus-api-0.21.0.jar > 27.3\u001b[m\u001b[79D\u001b[1B\u001b[2A\u001b[1m> root project > Resolve files of :classpath > guava-30.1-jre.jar > 329.1 KiB/2\u001b[m\u001b[79D\u001b[1B\u001b[1m> root project > Resolve files of :classpath > opencensus-api-0.21.0.jar > 57.3\u001b[m\u001b[79D\u001b[1B\u001b[2A\u001b[1m> root project > Resolve files of :classpath > guava-30.1-jre.jar > 549.1 KiB/2\u001b[m\u001b[79D\u001b[1B\u001b[1m> root project > Resolve files of :classpath > opencensus-api-0.21.0.jar > 101.\u001b[m\u001b[79D\u001b[1B\u001b[3A\u001b[1m<\u001b[0;1m-------------> 0% CONFIGURING [18s]\u001b[m\u001b[36D\u001b[1B\u001b[1m> root project > Resolve files of :classpath > guava-30.1-jre.jar > 889.1 KiB/2\u001b[m\u001b[79D\u001b[1B\u001b[1m> root project > Resolve files of :classpath > opencensus-api-0.21.0.jar > 171.\u001b[m\u001b[79D\u001b[1B\u001b[2A\u001b[1m> root project > Resolve files of :classpath > guava-30.1-jre.jar > 1.4 MiB/2.7\u001b[m\u001b[79D\u001b[1B\u001b[1m> root project > Resolve files of :classpath > opencensus-api-0.21.0.jar > 288.\u001b[m\u001b[79D\u001b[1B\u001b[2A\u001b[1m> root project > Resolve files of :classpath > proto-google-common-protos-1.12.\u001b[m\u001b[79D\u001b[1B\u001b[1m> root project > Resolve files of :classpath > json-20180813.jar\u001b[m\u001b[0K\u001b[64D\u001b[1B\u001b[2A\u001b[1m> root project > Resolve files of :classpath > fastutil-8.4.0.jar > 2.9 MiB/18.\u001b[m\u001b[79D\u001b[1B\u001b[1m> root project > Resolve files of :classpath > apksig-7.1.2.jar > 341.4 KiB/383\u001b[m\u001b[79D\u001b[1B\u001b[2A\u001b[1m> root project > Resolve files of :classpath > fastutil-8.4.0.jar > 9.9 MiB/18.\u001b[m\u001b[79D\u001b[1B> IDLE\u001b[0K\u001b[6D\u001b[1B\u001b[2A\u001b[1m> root project > Resolve files of :classpath > fastutil-8.4.0.jar > 10 MiB/18.1\u001b[m\u001b[79D\u001b[2B\u001b[1A\u001b[1m> root project > Resolve files of :classpath > builder-7.1.2.jar\u001b[m\u001b[64D\u001b[1B\u001b[1A\u001b[1m> root project > Resolve files of :classpath > builder-7.1.2.jar > 12.3 MiB/12.\u001b[m\u001b[79D\u001b[1B\u001b[2A\u001b[1m> root project > Resolve files of :classpath > fastutil-8.4.0.jar > 10.1 MiB/18\u001b[m\u001b[79D\u001b[1B> IDLE\u001b[0K\u001b[6D\u001b[1B\u001b[3A\u001b[1m<\u001b[0;1m-------------> 0% CONFIGURING [19s]\u001b[m\u001b[36D\u001b[2B\u001b[1m> root project > Resolve files of :classpath > sdk-common-30.1.2.jar > 23.5 KiB\u001b[m\u001b[79D\u001b[1B\u001b[2A\u001b[1m> root project > Resolve files of :classpath > fastutil-8.4.0.jar > 10.3 MiB/18\u001b[m\u001b[79D\u001b[1B\u001b[1m> root project > Resolve files of :classpath > sdklib-30.1.2.jar\u001b[m\u001b[0K\u001b[64D\u001b[1B\u001b[2A\u001b[1m> root project > Resolve files of :classpath > fastutil-8.4.0.jar > 10.5 MiB/18\u001b[m\u001b[79D\u001b[1B\u001b[1m> root project > Resolve files of :classpath > tracker-30.1.2.jar\u001b[m\u001b[65D\u001b[1B\u001b[2A\u001b[1m> root project > Resolve files of :classpath > fastutil-8.4.0.jar > 10.8 MiB/18\u001b[m\u001b[79D\u001b[1B\u001b[1m> root project > Resolve files of :classpath > crash-30.1.2.jar\u001b[m\u001b[0K\u001b[63D\u001b[1B\u001b[2A\u001b[1m> root project > Resolve files of :classpath > fastutil-8.4.0.jar > 11.5 MiB/18\u001b[m\u001b[79D\u001b[1B\u001b[1m> root project > Resolve files of :classpath > ddmlib-30.1.2.jar\u001b[m\u001b[64D\u001b[1B\u001b[2A\u001b[1m> root project > Resolve files of :classpath > fastutil-8.4.0.jar > 12.2 MiB/18\u001b[m\u001b[79D\u001b[1B\u001b[1m> root project > Resolve files of :classpath > bundletool-1.8.0.jar > 6.2 MiB/9\u001b[m\u001b[79D\u001b[1B\u001b[2A\u001b[1m> root project > Resolve files of :classpath > fastutil-8.4.0.jar > 12.4 MiB/18\u001b[m\u001b[79D\u001b[1B\u001b[1m> root project > Resolve files of :classpath > bundletool-1.8.0.jar > 9.1 MiB/9\u001b[m\u001b[79D\u001b[1B\u001b[2A\u001b[1m> root project > Resolve files of :classpath > fastutil-8.4.0.jar > 12.6 MiB/18\u001b[m\u001b[79D\u001b[2B\u001b[2A\u001b[1m> root project > Resolve files of :classpath > fastutil-8.4.0.jar > 13 MiB/18.1\u001b[m\u001b[79D\u001b[1B> IDLE\u001b[0K\u001b[6D\u001b[1B\u001b[2A\u001b[1m> root project > Resolve files of :classpath > fastutil-8.4.0.jar > 13.8 MiB/18\u001b[m\u001b[79D\u001b[2B\u001b[3A\u001b[1m<\u001b[0;1m-------------> 0% CONFIGURING [20s]\u001b[m\u001b[36D\u001b[1B\u001b[1m> root project > Resolve files of :classpath\u001b[m\u001b[0K\u001b[44D\u001b[2B\u001b[2A\u001b[1m> root project\u001b[m\u001b[0K\u001b[14D\u001b[2B\u001b[3A\u001b[1m<\u001b[0;1m-------------> 0% CONFIGURING [21s]\u001b[m\u001b[36D\u001b[3B\u001b[3A\u001b[1m<\u001b[0;1m-------------> 0% CONFIGURING [22s]\u001b[m\u001b[36D\u001b[3B\u001b[3A\u001b[1m<\u001b[0;1m-------------> 0% CONFIGURING [23s]\u001b[m\u001b[36D\u001b[3B\u001b[3A\u001b[1m<\u001b[0;1m-------------> 0% CONFIGURING [24s]\u001b[m\u001b[36D\u001b[3B\u001b[3A\u001b[1m<\u001b[0;1m-------------> 0% CONFIGURING [25s]\u001b[m\u001b[36D\u001b[3B\u001b[3A\u001b[1m<\u001b[0;1m-------------> 0% CONFIGURING [26s]\u001b[m\u001b[36D\u001b[3B\u001b[3A\u001b[1m<\u001b[0;1m-------------> 0% CONFIGURING [27s]\u001b[m\u001b[36D\u001b[3B\u001b[3A\u001b[1m<\u001b[0;1m-------------> 0% CONFIGURING [28s]\u001b[m\u001b[36D\u001b[3B\u001b[3A\u001b[1m<\u001b[0;1m-------------> 0% CONFIGURING [29s]\u001b[m\u001b[36D\u001b[3B\u001b[3A\u001b[1m<\u001b[0;1m-------------> 0% CONFIGURING [30s]\u001b[m\u001b[36D\u001b[3B\u001b[3A\u001b[1m<\u001b[0;1m-------------> 0% CONFIGURING [31s]\u001b[m\u001b[36D\u001b[3B\u001b[3A\u001b[1m<\u001b[0;1m-------------> 0% CONFIGURING [32s]\u001b[m\u001b[36D\u001b[3B\u001b[3A\u001b[1m<\u001b[0;1m-------------> 0% CONFIGURING [33s]\u001b[m\u001b[36D\u001b[3B\u001b[3A\u001b[1m<\u001b[0;1m-------------> 0% CONFIGURING [34s]\u001b[m\u001b[36D\u001b[3B\u001b[3A\u001b[1m<\u001b[0;1m-------------> 0% CONFIGURING [35s]\u001b[m\u001b[36D\u001b[3B\u001b[3A\u001b[1m<\u001b[0;1m-------------> 0% CONFIGURING [36s]\u001b[m\u001b[36D\u001b[3B\u001b[3A\u001b[1m<\u001b[0;1m-------------> 0% CONFIGURING [37s]\u001b[m\u001b[36D\u001b[3B\u001b[3A\u001b[1m<\u001b[0;1m-------------> 0% CONFIGURING [38s]\u001b[m\u001b[36D\u001b[3B\u001b[3A\u001b[1m<\u001b[0;1m-------------> 0% CONFIGURING [39s]\u001b[m\u001b[36D\u001b[3B\u001b[3A\u001b[1m<\u001b[0;1m-------------> 0% CONFIGURING [40s]\u001b[m\u001b[36D\u001b[3B\u001b[2A\u001b[1m> root project > Compiling build file 'build.gradle'\u001b[m\u001b[52D\u001b[2B\u001b[3A\u001b[1m<\u001b[0;1m-------------> 0% CONFIGURING [41s]\u001b[m\u001b[36D\u001b[3B\u001b[2A\u001b[1m> root project\u001b[m\u001b[0K\u001b[14D\u001b[2B\u001b[3A\u001b[1m<\u001b[0;1m-------------> 0% CONFIGURING [42s]\u001b[m\u001b[36D\u001b[3B\u001b[3A\u001b[1m<\u001b[0;1m-------------> 0% CONFIGURING [43s]\u001b[m\u001b[36D\u001b[3B\u001b[3A\u001b[1m<\u001b[0;1m-------------> 0% CONFIGURING [44s]\u001b[m\u001b[36D\u001b[3B\u001b[3A\u001b[1m<\u001b[0;1m-------------> 0% CONFIGURING [45s]\u001b[m\u001b[36D\u001b[3B\u001b[3A\u001b[1m<\u001b[0;32;1m=============\u001b[0;39;1m> 100% CONFIGURING [45s]\u001b[m\u001b[38D\u001b[1B> IDLE\u001b[0K\u001b[6D\u001b[2B\u001b[3A\u001b[1m<\u001b[0;32;1m=============\u001b[0;39;1m> 100% CONFIGURING [46s]\u001b[m\u001b[38D\u001b[3B\u001b[3A\u001b[1m<\u001b[0;32;1m=============\u001b[0;39;1m> 100% CONFIGURING [47s]\u001b[m\u001b[38D\u001b[3B\u001b[3A\u001b[1m<\u001b[0;1m-------------> 0% EXECUTING [47s]\u001b[m\u001b[0K\u001b[34D\u001b[1B\u001b[1m> :clean\u001b[m\u001b[8D\u001b[2B\u001b[3A\u001b[1m<\u001b[0;32;1m=\u001b[0;39;1m------------> 14% EXECUTING [47s]\u001b[m\u001b[35D\u001b[1B\u001b[1m> :generateDebugBuildConfig\u001b[m\u001b[27D\u001b[2B\u001b[3A\u001b[1m<\u001b[0;32;1m==\u001b[0;39;1m-----------> 17% EXECUTING [47s]\u001b[m\u001b[35D\u001b[1B\u001b[1m> :javaPreCompileDebug\u001b[m\u001b[0K\u001b[22D\u001b[2B\u001b[3A\u001b[1m<\u001b[0;32;1m===\u001b[0;39;1m----------> 26% EXECUTING [47s]\u001b[m\u001b[35D\u001b[1B\u001b[1m> :mergeDebugResources\u001b[m\u001b[22D\u001b[2B\u001b[1A\u001b[1m> :createDebugCompatibleScreenManifests\u001b[m\u001b[39D\u001b[1B\u001b[3A\u001b[1m<\u001b[0;32;1m====\u001b[0;39;1m---------> 31% EXECUTING [47s]\u001b[m\u001b[35D\u001b[2B\u001b[1m> :processDebugMainManifest\u001b[m\u001b[0K\u001b[27D\u001b[1B\u001b[3A\u001b[1m<\u001b[0;32;1m====\u001b[0;39;1m---------> 31% EXECUTING [48s]\u001b[m\u001b[35D\u001b[3B\u001b[3A\u001b[1m<\u001b[0;32;1m====\u001b[0;39;1m---------> 34% EXECUTING [48s]\u001b[m\u001b[35D\u001b[2B\u001b[1m> :processDebugManifest\u001b[m\u001b[0K\u001b[23D\u001b[1B\u001b[3A\u001b[1m<\u001b[0;32;1m====\u001b[0;39;1m---------> 36% EXECUTING [48s]\u001b[m\u001b[35D\u001b[1B> IDLE\u001b[0K\u001b[6D\u001b[2B\u001b[3A\u001b[1m<\u001b[0;32;1m=====\u001b[0;39;1m--------> 41% EXECUTING [48s]\u001b[m\u001b[35D\u001b[2B\u001b[1m> :processDebugResources\u001b[m\u001b[24D\u001b[1B\u001b[1A\u001b[1m> :processDebugResources > Resolve dependencies of :detachedConfiguration1 > aa\u001b[m\u001b[79D\u001b[1B\u001b[1A\u001b[1m> :processDebugResources > Resolve files of :detachedConfiguration1 > aapt2-7.1\u001b[m\u001b[79D\u001b[1B\u001b[3A\u001b[1m<\u001b[0;32;1m=====\u001b[0;39;1m--------> 41% EXECUTING [49s]\u001b[m\u001b[35D\u001b[2B\u001b[1m> :processDebugResources > Resolve files of :detachedConfiguration1 > Aapt2Extr\u001b[m\u001b[79D\u001b[1B\u001b[2A\u001b[1m> :mergeDebugShaders\u001b[m\u001b[20D\u001b[1B\u001b[1m> :processDebugResources\u001b[m\u001b[0K\u001b[24D\u001b[1B\u001b[3A\u001b[1m<\u001b[0;32;1m======\u001b[0;39;1m-------> 48% EXECUTING [49s]\u001b[m\u001b[35D\u001b[1B\u001b[1m> :mergeDebugAssets\u001b[m\u001b[0K\u001b[19D\u001b[2B\u001b[3A\u001b[1m<\u001b[0;32;1m=======\u001b[0;39;1m------> 56% EXECUTING [49s]\u001b[m\u001b[35D\u001b[1B\u001b[1m> :mergeDebugJavaResource\u001b[m\u001b[25D\u001b[2B\u001b[3A\u001b[1m<\u001b[0;32;1m=======\u001b[0;39;1m------> 58% EXECUTING [49s]\u001b[m\u001b[35D\u001b[1B> IDLE\u001b[0K\u001b[6D\u001b[2B\u001b[3A\u001b[1m<\u001b[0;32;1m=======\u001b[0;39;1m------> 60% EXECUTING [49s]\u001b[m\u001b[35D\u001b[1B\u001b[1m> :desugarDebugFileDependencies\u001b[m\u001b[31D\u001b[2B\u001b[3A\u001b[1m<\u001b[0;32;1m========\u001b[0;39;1m-----> 63% EXECUTING [50s]\u001b[m\u001b[35D\u001b[2B> IDLE\u001b[0K\u001b[6D\u001b[1B\u001b[3A\u001b[1m<\u001b[0;32;1m========\u001b[0;39;1m-----> 65% EXECUTING [50s]\u001b[m\u001b[35D\u001b[1B\u001b[1m> :compileDebugJavaWithJavac\u001b[m\u001b[0K\u001b[28D\u001b[2B\u001b[3A\u001b[1m<\u001b[0;32;1m========\u001b[0;39;1m-----> 65% EXECUTING [51s]\u001b[m\u001b[35D\u001b[3B\u001b[3A\u001b[1m<\u001b[0;32;1m========\u001b[0;39;1m-----> 65% EXECUTING [52s]\u001b[m\u001b[35D\u001b[3B\u001b[3A\u001b[1m<\u001b[0;32;1m========\u001b[0;39;1m-----> 65% EXECUTING [53s]\u001b[m\u001b[35D\u001b[3B\u001b[3A\u001b[1m<\u001b[0;32;1m========\u001b[0;39;1m-----> 65% EXECUTING [54s]\u001b[m\u001b[35D\u001b[3B\u001b[3A\u001b[1m<\u001b[0;32;1m========\u001b[0;39;1m-----> 65% EXECUTING [55s]\u001b[m\u001b[35D\u001b[3B\u001b[3A\u001b[0K\n",
            "\u001b[1m\u001b[90m[DEBUG]\u001b[39m\u001b[0m:   \t\u001b[1m> Task :compileDebugJavaWithJavac\u001b[m\n",
            "\u001b[1m\u001b[90m[DEBUG]\u001b[39m\u001b[0m:   \tNote: Some input files use or override a deprecated API.\n",
            "\u001b[1m\u001b[90m[DEBUG]\u001b[39m\u001b[0m:   \tNote: Recompile with -Xlint:deprecation for details.\n",
            "\u001b[1m\u001b[90m[DEBUG]\u001b[39m\u001b[0m:   \t\u001b[0K\n",
            "\u001b[1m\u001b[90m[DEBUG]\u001b[39m\u001b[0m:   \t\u001b[0K\n",
            "\u001b[1m\u001b[90m[DEBUG]\u001b[39m\u001b[0m:   \t\u001b[0K\n",
            "\u001b[1m\u001b[90m[DEBUG]\u001b[39m\u001b[0m:   \t\u001b[3A\u001b[1m<\u001b[0;32;1m========\u001b[0;39;1m-----> 65% EXECUTING [55s]\u001b[m\u001b[35D\u001b[1B\u001b[1m> :compileDebugJavaWithJavac\u001b[m\u001b[28D\u001b[1B> IDLE\u001b[6D\u001b[1B\u001b[3A\u001b[1m<\u001b[0;32;1m========\u001b[0;39;1m-----> 68% EXECUTING [55s]\u001b[m\u001b[35D\u001b[1B\u001b[1m> :mergeExtDexDebug\u001b[m\u001b[0K\u001b[19D\u001b[1B\u001b[1m> :mergeLibDexDebug\u001b[m\u001b[19D\u001b[1B\u001b[3A\u001b[1m<\u001b[0;32;1m=========\u001b[0;39;1m----> 73% EXECUTING [55s]\u001b[m\u001b[35D\u001b[1B\u001b[1m> :dexBuilderDebug\u001b[m\u001b[0K\u001b[18D\u001b[1B> IDLE\u001b[0K\u001b[6D\u001b[1B\u001b[3A\u001b[1m<\u001b[0;32;1m=========\u001b[0;39;1m----> 73% EXECUTING [56s]\u001b[m\u001b[35D\u001b[3B\u001b[3A\u001b[1m<\u001b[0;32;1m=========\u001b[0;39;1m----> 73% EXECUTING [57s]\u001b[m\u001b[35D\u001b[3B\u001b[3A\u001b[1m<\u001b[0;32;1m=========\u001b[0;39;1m----> 73% EXECUTING [58s]\u001b[m\u001b[35D\u001b[3B\u001b[3A\u001b[1m<\u001b[0;32;1m=========\u001b[0;39;1m----> 73% EXECUTING [59s]\u001b[m\u001b[35D\u001b[3B\u001b[3A\u001b[1m<\u001b[0;32;1m=========\u001b[0;39;1m----> 73% EXECUTING [1m]\u001b[m\u001b[0K\u001b[34D\u001b[3B\u001b[3A\u001b[1m<\u001b[0;32;1m=========\u001b[0;39;1m----> 73% EXECUTING [1m 1s]\u001b[m\u001b[37D\u001b[3B\u001b[3A\u001b[1m<\u001b[0;32;1m=========\u001b[0;39;1m----> 73% EXECUTING [1m 2s]\u001b[m\u001b[37D\u001b[3B\u001b[3A\u001b[1m<\u001b[0;32;1m=========\u001b[0;39;1m----> 75% EXECUTING [1m 2s]\u001b[m\u001b[37D\u001b[1B\u001b[1m> :mergeProjectDexDebug\u001b[m\u001b[23D\u001b[1B\u001b[1m> :mergeDebugJniLibFolders\u001b[m\u001b[26D\u001b[1B\u001b[3A\u001b[1m<\u001b[0;32;1m==========\u001b[0;39;1m---> 78% EXECUTING [1m 2s]\u001b[m\u001b[37D\u001b[1B> IDLE\u001b[0K\u001b[6D\u001b[2B\u001b[3A\u001b[1m<\u001b[0;32;1m==========\u001b[0;39;1m---> 80% EXECUTING [1m 3s]\u001b[m\u001b[37D\u001b[1B\u001b[1m> :validateSigningDebug\u001b[m\u001b[23D\u001b[1B\u001b[1m> :mergeDebugNativeLibs\u001b[m\u001b[0K\u001b[23D\u001b[1B\u001b[3A\u001b[1m<\u001b[0;32;1m==========\u001b[0;39;1m---> 82% EXECUTING [1m 3s]\u001b[m\u001b[37D\u001b[2B> IDLE\u001b[0K\u001b[6D\u001b[1B\u001b[3A\u001b[1m<\u001b[0;32;1m==========\u001b[0;39;1m---> 82% EXECUTING [1m 4s]\u001b[m\u001b[37D\u001b[3B\u001b[3A\u001b[1m<\u001b[0;32;1m===========\u001b[0;39;1m--> 85% EXECUTING [1m 5s]\u001b[m\u001b[37D\u001b[1B\u001b[1m> :stripDebugDebugSymbols\u001b[m\u001b[25D\u001b[2B\u001b[3A\u001b[0K\n",
            "\u001b[1m\u001b[90m[DEBUG]\u001b[39m\u001b[0m:   \t\u001b[1m> Task :stripDebugDebugSymbols\u001b[m\n",
            "\u001b[1m\u001b[90m[DEBUG]\u001b[39m\u001b[0m:   \tUnable to strip the following libraries, packaging them as they are: libSDL2.so, libSDL2_image.so, libSDL2_mixer.so, libSDL2_ttf.so, libcrypto1.1.so, libffi.so, libmain.so, libpybundle.so, libpython3.10.so, libsqlite3.so, libssl1.1.so.\n",
            "\u001b[1m\u001b[90m[DEBUG]\u001b[39m\u001b[0m:   \t\u001b[0K\n",
            "\u001b[1m\u001b[90m[DEBUG]\u001b[39m\u001b[0m:   \t\u001b[0K\n",
            "\u001b[1m\u001b[90m[DEBUG]\u001b[39m\u001b[0m:   \t\u001b[0K\n",
            "\u001b[1m\u001b[90m[DEBUG]\u001b[39m\u001b[0m:   \t\u001b[3A\u001b[1m<\u001b[0;32;1m============\u001b[0;39;1m-> 92% EXECUTING [1m 5s]\u001b[m\u001b[37D\u001b[1B\u001b[1m> :packageDebug\u001b[m\u001b[15D\u001b[1B> IDLE\u001b[6D\u001b[1B\u001b[3A\u001b[1m<\u001b[0;32;1m============\u001b[0;39;1m-> 92% EXECUTING [1m 6s]\u001b[m\u001b[37D\u001b[3B\u001b[3A\u001b[1m<\u001b[0;32;1m============\u001b[0;39;1m-> 92% EXECUTING [1m 7s]\u001b[m\u001b[37D\u001b[3B\u001b[3A\u001b[1m<\u001b[0;32;1m============\u001b[0;39;1m-> 92% EXECUTING [1m 8s]\u001b[m\u001b[37D\u001b[3B\u001b[3A\u001b[0K\n",
            "\u001b[1m\u001b[90m[DEBUG]\u001b[39m\u001b[0m:   \tDeprecated Gradle features were used in this build, making it incompatible with Gradle 8.0.\n",
            "\u001b[1m\u001b[90m[DEBUG]\u001b[39m\u001b[0m:   \t\n",
            "\u001b[1m\u001b[90m[DEBUG]\u001b[39m\u001b[0m:   \tYou can use '--warning-mode all' to show the individual deprecation warnings and determine if they come from your own scripts or plugins.\n",
            "\u001b[1m\u001b[90m[DEBUG]\u001b[39m\u001b[0m:   \t\n",
            "\u001b[1m\u001b[90m[DEBUG]\u001b[39m\u001b[0m:   \tSee https://docs.gradle.org/7.4.1/userguide/command_line_interface.html#sec:command_line_warnings\n",
            "\u001b[1m\u001b[90m[DEBUG]\u001b[39m\u001b[0m:   \t\n",
            "\u001b[1m\u001b[90m[DEBUG]\u001b[39m\u001b[0m:   \t\u001b[32;1mBUILD SUCCESSFUL\u001b[0;39m in 1m 21s\n",
            "\u001b[1m\u001b[90m[DEBUG]\u001b[39m\u001b[0m:   \t31 actionable tasks: 30 executed, 1 up-to-date\n",
            "\u001b[1m\u001b[90m[DEBUG]\u001b[39m\u001b[0m:   \t\u001b[0K\n",
            "\u001b[1m\u001b[90m[DEBUG]\u001b[39m\u001b[0m:   \t\u001b[0K\n",
            "\u001b[1m\u001b[90m[DEBUG]\u001b[39m\u001b[0m:   \t\u001b[0K\n",
            "\u001b[1m\u001b[90m[DEBUG]\u001b[39m\u001b[0m:   \t\u001b[3A\u001b[1m<\u001b[0;32;1m=============\u001b[0;39;1m> 100% EXECUTING [1m 8s]\u001b[m\u001b[38D\u001b[1B> IDLE\u001b[6D\u001b[1B> IDLE\u001b[6D\u001b[1B\u001b[3A\u001b[1m<\u001b[0;1m-------------> 0% WAITING\u001b[m\u001b[0K\u001b[26D\u001b[3B\u001b[3A\u001b[2K\u001b[1B\u001b[2K\u001b[1B\u001b[2K\u001b[2A\u001b[m\n",
            "\u001b[1m[INFO]\u001b[0m:    \u001b[36m<- directory context /content/.buildozer/android/platform/python-for-android\u001b[39m\n",
            "\u001b[1m\u001b[90m[DEBUG]\u001b[39m\u001b[0m:   All possible dists: [<Distribution: name myapp with recipes (hostpython3, libffi, openssl, sdl2_image, sdl2_mixer, sdl2_ttf, sqlite3, python3, sdl2, setuptools, six, pyjnius, android, kivy, urllib3, requests, chardet, certifi, idna)>]\n",
            "\u001b[1m\u001b[90m[DEBUG]\u001b[39m\u001b[0m:   Dist matching name and arch: [<Distribution: name myapp with recipes (hostpython3, libffi, openssl, sdl2_image, sdl2_mixer, sdl2_ttf, sqlite3, python3, sdl2, setuptools, six, pyjnius, android, kivy, urllib3, requests, chardet, certifi, idna)>]\n",
            "\u001b[1m\u001b[90m[DEBUG]\u001b[39m\u001b[0m:   Dist matching ndk_api and recipe: [<Distribution: name myapp with recipes (hostpython3, libffi, openssl, sdl2_image, sdl2_mixer, sdl2_ttf, sqlite3, python3, sdl2, setuptools, six, pyjnius, android, kivy, urllib3, requests, chardet, certifi, idna)>]\n",
            "\u001b[1m[INFO]\u001b[0m:    Of the existing distributions, the following meet the given requirements:\n",
            "\u001b[1m[INFO]\u001b[0m:    \t\u001b[32m\u001b[1mmyapp\u001b[0m: min API 21, includes recipes (\u001b[32mhostpython3, libffi, openssl, sdl2_image, sdl2_mixer, sdl2_ttf, sqlite3, python3, sdl2, setuptools, six, pyjnius, android, kivy, urllib3, requests, chardet, certifi, idna\u001b[0m), built for archs (\u001b[34marm64-v8a, armeabi-v7a\u001b[0m)\n",
            "\u001b[1m[INFO]\u001b[0m:    \u001b[1m\u001b[94mmyapp has compatible recipes, using this one\u001b[0m\n",
            "\u001b[1m[INFO]\u001b[0m:    \u001b[1m\u001b[32m# Copying android package to current directory\u001b[0m\u001b[39m\n",
            "\u001b[1m[INFO]\u001b[0m:    \u001b[1m\u001b[32m# Android package filename not found in build output. Guessing...\u001b[0m\u001b[39m\n",
            "\u001b[1m[INFO]\u001b[0m:    \u001b[1m\u001b[32m# Found android package file: /content/.buildozer/android/platform/build-arm64-v8a_armeabi-v7a/dists/myapp/build/outputs/apk/debug/myapp-debug.apk\u001b[0m\u001b[39m\n",
            "\u001b[1m[INFO]\u001b[0m:    # Add version number to android package\n",
            "\u001b[1m[INFO]\u001b[0m:    # Android package renamed to myapp-debug-0.1.apk\n",
            "\u001b[1m\u001b[90m[DEBUG]\u001b[39m\u001b[0m:   \u001b[90m->\u001b[0m running cp /content/.buildozer/android/platform/build-arm64-v8a_armeabi-v7a/dists/myapp/build/outputs/apk/debug/myapp-debug.apk myapp-debug-0.1.apk\u001b[0m\n",
            "No setup.py/pyproject.toml used, copying full private data into .apk.\n",
            "Applying Java source code patches...\n",
            "Applying patch: src/patches/SDLActivity.java.patch\n",
            "\u001b[39m\u001b[0m\u001b[36m# Android packaging done!\u001b[39m\u001b[0m\n",
            "\u001b[39m\u001b[0m\u001b[36m# APK myapp-0.1-arm64-v8a_armeabi-v7a-debug.apk available in the bin directory\u001b[39m\u001b[0m\n",
            "\u001b[0m"
          ]
        }
      ]
    },
    {
      "cell_type": "markdown",
      "source": [
        "**Run my application**\n",
        "\n",
        "Buildozer is able to deploy the application on your mobile, run it, and even get back the log into the console. It will work only if you already compiled your application at least once:\n",
        "```\n",
        "buildozer android deploy run logcat\n",
        "```\n",
        "\n",
        "You can combine the compilation with the deployment:\n",
        "\n",
        "```\n",
        "buildozer -v android debug deploy run logcat\n",
        "```\n",
        "\n",
        "To save the logcat output into a file named my_log.txt (the file will appear in your current directory):\n",
        "\n",
        "```\n",
        "buildozer -v android debug deploy run logcat > my_log.txt\n",
        "```\n",
        "\n",
        "\n",
        "To see your running application’s print() messages and python’s error messages, use:\n",
        "```\n",
        "buildozer -v android deploy run logcat | grep python\n",
        "```\n"
      ],
      "metadata": {
        "id": "cfcQYvpnlRxJ"
      }
    },
    {
      "cell_type": "code",
      "source": [],
      "metadata": {
        "id": "QI_S8c9MjwGj"
      },
      "execution_count": null,
      "outputs": []
    },
    {
      "cell_type": "markdown",
      "source": [
        "**Run my application from Windows 10**\n",
        "\n",
        "Plug your Android device on a USB port.\n",
        "Open Windows PowerShell, go into the folder where you installed the Windows version of ADB, and activate the ADB daemon. When the daemon is started you must see a number besides the word “device” meaning your device was correctly detected. In case of trouble, try another USB port or USB cable.\n",
        "```\n",
        "cd C:\\platform-tools\\\n",
        ".\\adb.exe devices\n",
        "```\n",
        "\n",
        "Open the Linux distribution you installed on Windows Subsystem for Linux (WSL) and proceed with the deploy commands:\n",
        "```\n",
        "buildozer -v android deploy run\n",
        "```\n",
        "\n",
        "It is important to notice that Windows ADB and Buildozer installed ADB must be the same version. To check the versions, open PowerShell and type:\n",
        "```\n",
        "cd C:\\platform-tools\\\n",
        ".\\adb.exe version\n",
        "wsl\n",
        "cd ~/.buildozer/android/platform/android-sdk/platform-tools/\n",
        "./adb version\n",
        "```\n",
        "\n"
      ],
      "metadata": {
        "id": "Ontq-NrHmI0l"
      }
    },
    {
      "cell_type": "markdown",
      "source": [
        "title: String, title of your application.\n",
        "\n",
        "It might be possible that some characters are not working depending on the targeted platform. It’s best to try and see if everything works as expected. Try to avoid too long titles, as they will also not fit in the title displayed under the icon.\n",
        "\n",
        "package.name: String, package name.\n",
        "\n",
        "The Package name is one word with only ASCII characters and/or numbers. It should not contain any special characters. For example, if your application is named Flat Jewels, the package name can be flatjewels.\n",
        "\n",
        "package.domain: String, package domain.\n",
        "\n",
        "Package domain is a string that references the company or individual that did the app. Both domain+name will become your application identifier for Android and iOS, choose it carefully. As an example, when the Kivy`s team is publishing an application, the domain starts with org.kivy.\n",
        "\n",
        "source.dir: String, location of your application sources.\n",
        "\n",
        "The location must be a directory that contains a main.py file. It defaults to the directory where buildozer.spec is.\n",
        "\n",
        "Source Inclusion/Exclusion options.\n",
        "\n",
        "source.include_exts: List, file extensions to include.\n",
        "source.exclude_exts: List, file extensions to exclude, even if included by source.include_exts\n",
        "source.exclude_dirs: List, directories to exclude.\n",
        "source.exclude_patterns: List, files to exclude if they match a pattern.\n",
        "source.include_patterns: List, files to include if they match a pattern, even if excluded by source.exclude_dirs or source.exclude_patterns\n",
        "By default, not all files are in your source.dir are included. You can use these options to alter which files are included in your app and which are excluded.\n",
        "\n",
        "Directories and files starting with a “.” are always excluded; this cannot be overridden.\n",
        "\n",
        "Files that have an extension that is not in source.include_exts are excluded. (The default suggestion is py,png,jpg,kv,atlas. You may want to include other file extensions such as resource files: gif, xml, mp3, etc.) File names that have no extension (i.e contain no “.”) are not excluded here. source.exclude_exts takes priority over source.include_exts - it excludes any listed extensions that were previously included.\n",
        "\n",
        "Files and directories in directories listed in source.exclude_dirs are excluded. For example, you can exclude your tests and bin directory with:\n",
        "\n",
        "source.exclude_dirs = tests, bin\n",
        "source.exclude_patterns are also excluded. This is useful for excluding individual files. For example:\n",
        "\n",
        "source.exclude_patterns = license\n",
        "These dir and pattern exclusions may be overridden with source.include_patterns - files and directories that match will once again be included.\n",
        "\n",
        "However, source.include_patterns does not override the source.include_exts nor source.exclude_exts. source.include_patterns also cannot be used to include files or directories that start with “.”)\n",
        "\n",
        "version.regex: Regex, Regular expression to capture the version in version.filename.\n",
        "\n",
        "The default capture method of your application version is by grepping a line like this:\n",
        "\n",
        "__version__ = \"1.0\"\n",
        "The 1.0 will be used as a version.\n",
        "\n",
        "version.filename: String, defaults to the main.py.\n",
        "\n",
        "File to use for capturing the version with version.regex.\n",
        "\n",
        "version: String, manual application version.\n",
        "\n",
        "If you don’t want to capture the version, comment out both version.regex and version.filename, then put the version you want directly in the version token:\n",
        "\n",
        "# version.regex =\n",
        "# version.filename =\n",
        "version = 1.0\n",
        "requirements: List, Python modules or extensions that your application requires.\n",
        "\n",
        "The requirements can be either a name of a recipe in the Python-for-android project, or a pure-Python package. For example, if your application requires Kivy and requests, you need to write:\n",
        "\n",
        "requirements = kivy,requests\n",
        "If your application tries to install a Python extension (ie, a Python package that requires compilation), and the extension doesn’t have a recipe associated to Python-for-android, it will not work. We explicitly disable the compilation here. If you want to make it work, contribute to the Python-for-android project by creating a recipe. See Contribute.\n",
        "\n",
        "presplash.filename: String, loading screen of your application.\n",
        "\n",
        "Presplash is the image shown on the device during application loading. It is called presplash on Android, and Loading image on iOS. The image might have different requirements depending the platform. Currently, Buildozer works well only with Android, iOS support is not great on this.\n",
        "\n",
        "The image must be a JPG or PNG, preferable with Power-of-two size, e.g., a 512x512 image is perfect to target all the devices. The image is not fitted, scaled, or anything on the device. If you provide a too-large image, it might not fit on small screens.\n",
        "\n",
        "icon.filename: String, icon of your application.\n",
        "\n",
        "The icon of your application. It must be a PNG of 512x512 size to be able to cover all the various platform requirements.\n",
        "\n",
        "orientation: List, supported orientations of the application.\n",
        "\n",
        "Indicate the orientations that your application supports. Valid values are: portrait, landscape, portrait-reverse, landscape-reverse. Defaults to [landscape].\n",
        "\n",
        "fullscreen: Boolean, fullscreen mode.\n",
        "\n",
        "Defaults to true, your application will run in fullscreen. Means the status bar will be hidden. If you want to let the user access the status bar, hour, notifications, use 0 as a value.\n",
        "\n",
        "home_app: Boolean, Home App (launcher app) usage.\n",
        "\n",
        "Defaults to false, your application will be listed as a Home App (launcher app) if true."
      ],
      "metadata": {
        "id": "QKOC9pFFnZj4"
      }
    },
    {
      "cell_type": "code",
      "source": [],
      "metadata": {
        "id": "cUedXDyenY7o"
      },
      "execution_count": null,
      "outputs": []
    }
  ]
}